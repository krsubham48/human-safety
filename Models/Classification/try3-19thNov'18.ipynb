{
 "cells": [
  {
   "cell_type": "code",
   "execution_count": 1,
   "metadata": {},
   "outputs": [
    {
     "name": "stderr",
     "output_type": "stream",
     "text": [
      "/Library/Frameworks/Python.framework/Versions/3.6/lib/python3.6/site-packages/h5py/__init__.py:36: FutureWarning: Conversion of the second argument of issubdtype from `float` to `np.floating` is deprecated. In future, it will be treated as `np.float64 == np.dtype(float).type`.\n",
      "  from ._conv import register_converters as _register_converters\n",
      "Using TensorFlow backend.\n"
     ]
    }
   ],
   "source": [
    "import numpy as np\n",
    "import pandas as pd\n",
    "import cv2\n",
    "import os\n",
    "from matplotlib import pyplot as plt\n",
    "\n",
    "%matplotlib inline\n",
    "\n",
    "from keras.utils import to_categorical\n",
    "from keras.models import Sequential\n",
    "from keras.layers import Dense\n",
    "from keras.layers import Dropout\n",
    "from keras.layers import Flatten\n",
    "from keras.layers import LeakyReLU\n",
    "from keras.optimizers import *\n",
    "from keras.layers.normalization import BatchNormalization\n",
    "from keras.layers.convolutional import Conv2D\n",
    "from keras.layers.convolutional import MaxPooling2D\n",
    "from keras.callbacks import ModelCheckpoint\n",
    "from keras.callbacks import History"
   ]
  },
  {
   "cell_type": "code",
   "execution_count": 2,
   "metadata": {
    "collapsed": true
   },
   "outputs": [],
   "source": [
    "root = '../'\n",
    "path_image = root+'Data/DataSub/Images/'\n",
    "path_label = root+'Data/DataSub/Label/'"
   ]
  },
  {
   "cell_type": "code",
   "execution_count": 3,
   "metadata": {
    "collapsed": true
   },
   "outputs": [],
   "source": [
    "data = pd.read_csv(path_label+'label_shf.csv')"
   ]
  },
  {
   "cell_type": "code",
   "execution_count": 4,
   "metadata": {
    "collapsed": true
   },
   "outputs": [],
   "source": [
    "name = data['name']"
   ]
  },
  {
   "cell_type": "code",
   "execution_count": 5,
   "metadata": {
    "collapsed": true
   },
   "outputs": [],
   "source": [
    "def data_loader(folder):\n",
    "    images = []\n",
    "    foo = []\n",
    "    for filename in name:\n",
    "        filename_ = str(filename)+'.jpg'\n",
    "        img = cv2.imread(os.path.join(folder,filename_))\n",
    "        if img is not None:\n",
    "            images.append(img)\n",
    "            foo.append(filename)\n",
    "    return (images, foo)"
   ]
  },
  {
   "cell_type": "code",
   "execution_count": 6,
   "metadata": {
    "collapsed": true
   },
   "outputs": [],
   "source": [
    "image, foo = data_loader(path_image)"
   ]
  },
  {
   "cell_type": "code",
   "execution_count": 7,
   "metadata": {},
   "outputs": [
    {
     "data": {
      "text/plain": [
       "(8970, 32, 32, 3)"
      ]
     },
     "execution_count": 7,
     "metadata": {},
     "output_type": "execute_result"
    }
   ],
   "source": [
    "image = np.asarray(image)\n",
    "image.shape"
   ]
  },
  {
   "cell_type": "code",
   "execution_count": 8,
   "metadata": {
    "collapsed": true
   },
   "outputs": [],
   "source": [
    "label = []\n",
    "for i in range(len(foo)):\n",
    "    label.append(data.loc[data['name']==foo[i], 'label'].iloc[0])"
   ]
  },
  {
   "cell_type": "code",
   "execution_count": 9,
   "metadata": {},
   "outputs": [
    {
     "data": {
      "text/plain": [
       "<matplotlib.image.AxesImage at 0x12bea35f8>"
      ]
     },
     "execution_count": 9,
     "metadata": {},
     "output_type": "execute_result"
    },
    {
     "data": {
      "image/png": "[encoded data removed]",
      "text/plain": [
       "<matplotlib.figure.Figure at 0x12bbe4f28>"
      ]
     },
     "metadata": {},
     "output_type": "display_data"
    }
   ],
   "source": [
    "plt.imshow(image[0])"
   ]
  },
  {
   "cell_type": "code",
   "execution_count": 10,
   "metadata": {
    "collapsed": true
   },
   "outputs": [],
   "source": [
    "X_train = image[:7000]"
   ]
  },
  {
   "cell_type": "code",
   "execution_count": 11,
   "metadata": {
    "collapsed": true
   },
   "outputs": [],
   "source": [
    "Y = to_categorical(label)"
   ]
  },
  {
   "cell_type": "code",
   "execution_count": 12,
   "metadata": {
    "collapsed": true
   },
   "outputs": [],
   "source": [
    "Y_train = Y[:7000]"
   ]
  },
  {
   "cell_type": "code",
   "execution_count": 13,
   "metadata": {
    "collapsed": true
   },
   "outputs": [],
   "source": [
    "def classification(pretrained_weights = None):\n",
    "    model = Sequential()\n",
    "    model.add(Conv2D(16, (5, 5), input_shape=(32, 32, 3), padding='same', activation='relu'))\n",
    "    model.add(Conv2D(32, (3, 3), activation='relu', padding='same'))\n",
    "    model.add(BatchNormalization())\n",
    "    model.add(Dropout(0.2))\n",
    "    model.add(MaxPooling2D(pool_size=(2, 2)))\n",
    "    model.add(Conv2D(64, (3, 3), activation='relu', padding='same'))\n",
    "    model.add(MaxPooling2D(pool_size=(2, 2)))\n",
    "    model.add(Conv2D(128, (3, 3), activation='relu', padding='same'))\n",
    "    model.add(MaxPooling2D(pool_size=(2, 2)))\n",
    "    model.add(BatchNormalization())\n",
    "    model.add(Dropout(0.2))\n",
    "    model.add(Conv2D(256, (3, 3), activation='relu', padding='same'))\n",
    "    model.add(Dropout(0.2))\n",
    "    model.add(Conv2D(512, (3, 3), activation='relu', padding='same'))\n",
    "    model.add(BatchNormalization())\n",
    "    model.add(Flatten())\n",
    "    model.add(Dense(512, activation='relu'))\n",
    "    model.add(BatchNormalization())\n",
    "    model.add(Dropout(0.2))\n",
    "    model.add(Dense(128, activation='relu'))\n",
    "    model.add(BatchNormalization())\n",
    "    model.add(Dropout(0.2))\n",
    "    model.add(Dense(64, activation='relu'))\n",
    "    model.add(Dense(20, activation='softmax'))\n",
    "    model.compile(loss='categorical_crossentropy', optimizer=adam(lr=1e-4), metrics=['accuracy'])\n",
    "    \n",
    "    if(pretrained_weights):\n",
    "        model.load_weights(pretrained_weights)\n",
    "    \n",
    "    return model"
   ]
  },
  {
   "cell_type": "code",
   "execution_count": 14,
   "metadata": {
    "scrolled": false
   },
   "outputs": [
    {
     "name": "stdout",
     "output_type": "stream",
     "text": [
      "Train on 6300 samples, validate on 700 samples\n",
      "Epoch 1/50\n",
      "6272/6300 [============================>.] - ETA: 0s - loss: 2.7423 - acc: 0.2036Epoch 00000: saving model to Model/try319.h5\n",
      "6300/6300 [==============================] - 121s - loss: 2.7403 - acc: 0.2037 - val_loss: 2.5569 - val_acc: 0.2386\n",
      "Epoch 2/50\n",
      "6272/6300 [============================>.] - ETA: 0s - loss: 2.4453 - acc: 0.2637Epoch 00001: saving model to Model/try319.h5\n",
      "6300/6300 [==============================] - 117s - loss: 2.4466 - acc: 0.2635 - val_loss: 2.4586 - val_acc: 0.2514\n",
      "Epoch 3/50\n",
      "6272/6300 [============================>.] - ETA: 0s - loss: 2.3159 - acc: 0.2983Epoch 00002: saving model to Model/try319.h5\n",
      "6300/6300 [==============================] - 116s - loss: 2.3153 - acc: 0.2984 - val_loss: 2.4428 - val_acc: 0.2814\n",
      "Epoch 4/50\n",
      "6272/6300 [============================>.] - ETA: 0s - loss: 2.2404 - acc: 0.3178Epoch 00003: saving model to Model/try319.h5\n",
      "6300/6300 [==============================] - 116s - loss: 2.2394 - acc: 0.3181 - val_loss: 2.4311 - val_acc: 0.2914\n",
      "Epoch 5/50\n",
      "6272/6300 [============================>.] - ETA: 0s - loss: 2.1675 - acc: 0.3407Epoch 00004: saving model to Model/try319.h5\n",
      "6300/6300 [==============================] - 116s - loss: 2.1674 - acc: 0.3405 - val_loss: 2.3428 - val_acc: 0.3014\n",
      "Epoch 6/50\n",
      "6272/6300 [============================>.] - ETA: 0s - loss: 2.0881 - acc: 0.3602Epoch 00005: saving model to Model/try319.h5\n",
      "6300/6300 [==============================] - 121s - loss: 2.0907 - acc: 0.3594 - val_loss: 2.3026 - val_acc: 0.3014\n",
      "Epoch 7/50\n",
      "6272/6300 [============================>.] - ETA: 0s - loss: 2.0224 - acc: 0.3820Epoch 00006: saving model to Model/try319.h5\n",
      "6300/6300 [==============================] - 116s - loss: 2.0234 - acc: 0.3816 - val_loss: 2.2818 - val_acc: 0.2986\n",
      "Epoch 8/50\n",
      "6272/6300 [============================>.] - ETA: 0s - loss: 1.9433 - acc: 0.4055Epoch 00007: saving model to Model/try319.h5\n",
      "6300/6300 [==============================] - 115s - loss: 1.9438 - acc: 0.4052 - val_loss: 2.2221 - val_acc: 0.3343\n",
      "Epoch 9/50\n",
      "6272/6300 [============================>.] - ETA: 0s - loss: 1.8401 - acc: 0.4391Epoch 00008: saving model to Model/try319.h5\n",
      "6300/6300 [==============================] - 116s - loss: 1.8421 - acc: 0.4384 - val_loss: 2.1649 - val_acc: 0.3357\n",
      "Epoch 10/50\n",
      "6272/6300 [============================>.] - ETA: 0s - loss: 1.8025 - acc: 0.4515Epoch 00009: saving model to Model/try319.h5\n",
      "6300/6300 [==============================] - 115s - loss: 1.8018 - acc: 0.4517 - val_loss: 2.2545 - val_acc: 0.3200\n",
      "Epoch 11/50\n",
      "6272/6300 [============================>.] - ETA: 0s - loss: 1.7370 - acc: 0.4630Epoch 00010: saving model to Model/try319.h5\n",
      "6300/6300 [==============================] - 115s - loss: 1.7385 - acc: 0.4624 - val_loss: 2.1659 - val_acc: 0.3429\n",
      "Epoch 12/50\n",
      "6272/6300 [============================>.] - ETA: 0s - loss: 1.6699 - acc: 0.4813Epoch 00011: saving model to Model/try319.h5\n",
      "6300/6300 [==============================] - 115s - loss: 1.6710 - acc: 0.4813 - val_loss: 2.1843 - val_acc: 0.3457\n",
      "Epoch 13/50\n",
      "6272/6300 [============================>.] - ETA: 0s - loss: 1.5866 - acc: 0.5056Epoch 00012: saving model to Model/try319.h5\n",
      "6300/6300 [==============================] - 115s - loss: 1.5864 - acc: 0.5059 - val_loss: 2.1696 - val_acc: 0.3600\n",
      "Epoch 14/50\n",
      "6272/6300 [============================>.] - ETA: 0s - loss: 1.5203 - acc: 0.5381Epoch 00013: saving model to Model/try319.h5\n",
      "6300/6300 [==============================] - 116s - loss: 1.5211 - acc: 0.5379 - val_loss: 2.0862 - val_acc: 0.3757\n",
      "Epoch 15/50\n",
      "6272/6300 [============================>.] - ETA: 0s - loss: 1.4371 - acc: 0.5588Epoch 00014: saving model to Model/try319.h5\n",
      "6300/6300 [==============================] - 115s - loss: 1.4382 - acc: 0.5584 - val_loss: 2.0936 - val_acc: 0.3971\n",
      "Epoch 16/50\n",
      "6272/6300 [============================>.] - ETA: 0s - loss: 1.3627 - acc: 0.5914Epoch 00015: saving model to Model/try319.h5\n",
      "6300/6300 [==============================] - 115s - loss: 1.3613 - acc: 0.5919 - val_loss: 2.0619 - val_acc: 0.3900\n",
      "Epoch 17/50\n",
      "6272/6300 [============================>.] - ETA: 0s - loss: 1.2718 - acc: 0.6092Epoch 00016: saving model to Model/try319.h5\n",
      "6300/6300 [==============================] - 115s - loss: 1.2717 - acc: 0.6092 - val_loss: 2.0444 - val_acc: 0.3929\n",
      "Epoch 18/50\n",
      "6272/6300 [============================>.] - ETA: 0s - loss: 1.2187 - acc: 0.6264Epoch 00017: saving model to Model/try319.h5\n",
      "6300/6300 [==============================] - 115s - loss: 1.2183 - acc: 0.6265 - val_loss: 2.0912 - val_acc: 0.3886\n",
      "Epoch 19/50\n",
      "6272/6300 [============================>.] - ETA: 0s - loss: 1.1325 - acc: 0.6593Epoch 00018: saving model to Model/try319.h5\n",
      "6300/6300 [==============================] - 115s - loss: 1.1317 - acc: 0.6592 - val_loss: 2.0418 - val_acc: 0.4171\n",
      "Epoch 20/50\n",
      "6272/6300 [============================>.] - ETA: 0s - loss: 1.0583 - acc: 0.6830Epoch 00019: saving model to Model/try319.h5\n",
      "6300/6300 [==============================] - 115s - loss: 1.0590 - acc: 0.6830 - val_loss: 2.0605 - val_acc: 0.4114\n",
      "Epoch 21/50\n",
      "6272/6300 [============================>.] - ETA: 0s - loss: 1.0267 - acc: 0.6846Epoch 00020: saving model to Model/try319.h5\n",
      "6300/6300 [==============================] - 116s - loss: 1.0263 - acc: 0.6844 - val_loss: 2.0119 - val_acc: 0.4471\n",
      "Epoch 22/50\n",
      "6272/6300 [============================>.] - ETA: 0s - loss: 0.9430 - acc: 0.7181Epoch 00021: saving model to Model/try319.h5\n",
      "6300/6300 [==============================] - 115s - loss: 0.9443 - acc: 0.7178 - val_loss: 2.0970 - val_acc: 0.4357\n",
      "Epoch 23/50\n",
      "6272/6300 [============================>.] - ETA: 0s - loss: 0.8907 - acc: 0.7320Epoch 00022: saving model to Model/try319.h5\n",
      "6300/6300 [==============================] - 115s - loss: 0.8893 - acc: 0.7325 - val_loss: 2.0158 - val_acc: 0.4657\n",
      "Epoch 24/50\n",
      "6272/6300 [============================>.] - ETA: 0s - loss: 0.8309 - acc: 0.7463Epoch 00023: saving model to Model/try319.h5\n",
      "6300/6300 [==============================] - 116s - loss: 0.8303 - acc: 0.7465 - val_loss: 2.1193 - val_acc: 0.4286\n",
      "Epoch 25/50\n",
      "6272/6300 [============================>.] - ETA: 0s - loss: 0.7695 - acc: 0.7685Epoch 00024: saving model to Model/try319.h5\n",
      "6300/6300 [==============================] - 118s - loss: 0.7703 - acc: 0.7686 - val_loss: 2.1344 - val_acc: 0.4529\n",
      "Epoch 26/50\n",
      "6272/6300 [============================>.] - ETA: 0s - loss: 0.7084 - acc: 0.7875Epoch 00025: saving model to Model/try319.h5\n",
      "6300/6300 [==============================] - 115s - loss: 0.7095 - acc: 0.7870 - val_loss: 2.1620 - val_acc: 0.4629\n",
      "Epoch 27/50\n",
      "6272/6300 [============================>.] - ETA: 0s - loss: 0.6839 - acc: 0.7962Epoch 00026: saving model to Model/try319.h5\n",
      "6300/6300 [==============================] - 115s - loss: 0.6827 - acc: 0.7965 - val_loss: 2.1834 - val_acc: 0.4571\n",
      "Epoch 28/50\n",
      "6272/6300 [============================>.] - ETA: 0s - loss: 0.6204 - acc: 0.8138Epoch 00027: saving model to Model/try319.h5\n",
      "6300/6300 [==============================] - 115s - loss: 0.6209 - acc: 0.8140 - val_loss: 2.1179 - val_acc: 0.4614\n",
      "Epoch 29/50\n",
      "6272/6300 [============================>.] - ETA: 0s - loss: 0.5760 - acc: 0.8257Epoch 00028: saving model to Model/try319.h5\n",
      "6300/6300 [==============================] - 115s - loss: 0.5775 - acc: 0.8254 - val_loss: 2.1018 - val_acc: 0.4729\n",
      "Epoch 30/50\n",
      "6272/6300 [============================>.] - ETA: 0s - loss: 0.5221 - acc: 0.8382Epoch 00029: saving model to Model/try319.h5\n",
      "6300/6300 [==============================] - 114s - loss: 0.5222 - acc: 0.8379 - val_loss: 2.2283 - val_acc: 0.4686\n",
      "Epoch 31/50\n",
      "6272/6300 [============================>.] - ETA: 0s - loss: 0.5107 - acc: 0.8426Epoch 00030: saving model to Model/try319.h5\n",
      "6300/6300 [==============================] - 115s - loss: 0.5095 - acc: 0.8432 - val_loss: 2.2740 - val_acc: 0.4771\n",
      "Epoch 32/50\n",
      "6272/6300 [============================>.] - ETA: 0s - loss: 0.4676 - acc: 0.8614Epoch 00031: saving model to Model/try319.h5\n",
      "6300/6300 [==============================] - 115s - loss: 0.4667 - acc: 0.8616 - val_loss: 2.3321 - val_acc: 0.4586\n",
      "Epoch 33/50\n"
     ]
    },
    {
     "name": "stdout",
     "output_type": "stream",
     "text": [
      "6272/6300 [============================>.] - ETA: 0s - loss: 0.4397 - acc: 0.8726Epoch 00032: saving model to Model/try319.h5\n",
      "6300/6300 [==============================] - 114s - loss: 0.4398 - acc: 0.8727 - val_loss: 2.3440 - val_acc: 0.4771\n",
      "Epoch 34/50\n",
      "6272/6300 [============================>.] - ETA: 0s - loss: 0.3868 - acc: 0.8825Epoch 00033: saving model to Model/try319.h5\n",
      "6300/6300 [==============================] - 114s - loss: 0.3871 - acc: 0.8824 - val_loss: 2.4147 - val_acc: 0.4586\n",
      "Epoch 35/50\n",
      "6272/6300 [============================>.] - ETA: 0s - loss: 0.3866 - acc: 0.8871Epoch 00034: saving model to Model/try319.h5\n",
      "6300/6300 [==============================] - 115s - loss: 0.3871 - acc: 0.8870 - val_loss: 2.3738 - val_acc: 0.4700\n",
      "Epoch 36/50\n",
      "6272/6300 [============================>.] - ETA: 0s - loss: 0.3502 - acc: 0.8941Epoch 00035: saving model to Model/try319.h5\n",
      "6300/6300 [==============================] - 115s - loss: 0.3508 - acc: 0.8940 - val_loss: 2.3413 - val_acc: 0.4871\n",
      "Epoch 37/50\n",
      "6272/6300 [============================>.] - ETA: 0s - loss: 0.3230 - acc: 0.8991Epoch 00036: saving model to Model/try319.h5\n",
      "6300/6300 [==============================] - 115s - loss: 0.3228 - acc: 0.8992 - val_loss: 2.4012 - val_acc: 0.4657\n",
      "Epoch 38/50\n",
      "6272/6300 [============================>.] - ETA: 0s - loss: 0.3046 - acc: 0.9082Epoch 00037: saving model to Model/try319.h5\n",
      "6300/6300 [==============================] - 116s - loss: 0.3042 - acc: 0.9083 - val_loss: 2.4275 - val_acc: 0.4686\n",
      "Epoch 39/50\n",
      "6272/6300 [============================>.] - ETA: 0s - loss: 0.2984 - acc: 0.9115Epoch 00038: saving model to Model/try319.h5\n",
      "6300/6300 [==============================] - 116s - loss: 0.2986 - acc: 0.9116 - val_loss: 2.4772 - val_acc: 0.4829\n",
      "Epoch 40/50\n",
      "6272/6300 [============================>.] - ETA: 0s - loss: 0.2665 - acc: 0.9208Epoch 00039: saving model to Model/try319.h5\n",
      "6300/6300 [==============================] - 114s - loss: 0.2677 - acc: 0.9202 - val_loss: 2.5267 - val_acc: 0.4571\n",
      "Epoch 41/50\n",
      "6272/6300 [============================>.] - ETA: 0s - loss: 0.2703 - acc: 0.9187Epoch 00040: saving model to Model/try319.h5\n",
      "6300/6300 [==============================] - 114s - loss: 0.2709 - acc: 0.9183 - val_loss: 2.5124 - val_acc: 0.4600\n",
      "Epoch 42/50\n",
      "6272/6300 [============================>.] - ETA: 0s - loss: 0.2518 - acc: 0.9203Epoch 00041: saving model to Model/try319.h5\n",
      "6300/6300 [==============================] - 115s - loss: 0.2521 - acc: 0.9203 - val_loss: 2.6257 - val_acc: 0.4614\n",
      "Epoch 43/50\n",
      "6272/6300 [============================>.] - ETA: 0s - loss: 0.2511 - acc: 0.9219Epoch 00042: saving model to Model/try319.h5\n",
      "6300/6300 [==============================] - 117s - loss: 0.2511 - acc: 0.9217 - val_loss: 2.6715 - val_acc: 0.4714\n",
      "Epoch 44/50\n",
      "6272/6300 [============================>.] - ETA: 0s - loss: 0.2286 - acc: 0.9354Epoch 00043: saving model to Model/try319.h5\n",
      "6300/6300 [==============================] - 115s - loss: 0.2293 - acc: 0.9351 - val_loss: 2.6248 - val_acc: 0.4600\n",
      "Epoch 45/50\n",
      "6272/6300 [============================>.] - ETA: 0s - loss: 0.2200 - acc: 0.9334Epoch 00044: saving model to Model/try319.h5\n",
      "6300/6300 [==============================] - 114s - loss: 0.2196 - acc: 0.9333 - val_loss: 2.7040 - val_acc: 0.4614\n",
      "Epoch 46/50\n",
      "6272/6300 [============================>.] - ETA: 0s - loss: 0.2213 - acc: 0.9300Epoch 00045: saving model to Model/try319.h5\n",
      "6300/6300 [==============================] - 115s - loss: 0.2212 - acc: 0.9300 - val_loss: 2.7609 - val_acc: 0.4657\n",
      "Epoch 47/50\n",
      "6272/6300 [============================>.] - ETA: 0s - loss: 0.1928 - acc: 0.9439Epoch 00046: saving model to Model/try319.h5\n",
      "6300/6300 [==============================] - 113s - loss: 0.1929 - acc: 0.9437 - val_loss: 2.7690 - val_acc: 0.4600\n",
      "Epoch 48/50\n",
      "6272/6300 [============================>.] - ETA: 0s - loss: 0.1965 - acc: 0.9394Epoch 00047: saving model to Model/try319.h5\n",
      "6300/6300 [==============================] - 115s - loss: 0.1967 - acc: 0.9394 - val_loss: 2.8231 - val_acc: 0.4457\n",
      "Epoch 49/50\n",
      "6272/6300 [============================>.] - ETA: 0s - loss: 0.1755 - acc: 0.9450Epoch 00048: saving model to Model/try319.h5\n",
      "6300/6300 [==============================] - 115s - loss: 0.1760 - acc: 0.9449 - val_loss: 2.7726 - val_acc: 0.4757\n",
      "Epoch 50/50\n",
      "6272/6300 [============================>.] - ETA: 0s - loss: 0.1841 - acc: 0.9423Epoch 00049: saving model to Model/try319.h5\n",
      "6300/6300 [==============================] - 116s - loss: 0.1847 - acc: 0.9422 - val_loss: 2.9134 - val_acc: 0.4343\n"
     ]
    }
   ],
   "source": [
    "model = classification()\n",
    "checkpointer = ModelCheckpoint('Model/try319.h5', verbose=1, save_best_only=False)\n",
    "results = model.fit(X_train, Y_train, validation_split=0.1, batch_size=32, epochs=50, callbacks=[checkpointer])"
   ]
  },
  {
   "cell_type": "code",
   "execution_count": 15,
   "metadata": {},
   "outputs": [
    {
     "name": "stdout",
     "output_type": "stream",
     "text": [
      "_________________________________________________________________\n",
      "Layer (type)                 Output Shape              Param #   \n",
      "=================================================================\n",
      "conv2d_1 (Conv2D)            (None, 32, 32, 16)        1216      \n",
      "_________________________________________________________________\n",
      "conv2d_2 (Conv2D)            (None, 32, 32, 32)        4640      \n",
      "_________________________________________________________________\n",
      "batch_normalization_1 (Batch (None, 32, 32, 32)        128       \n",
      "_________________________________________________________________\n",
      "dropout_1 (Dropout)          (None, 32, 32, 32)        0         \n",
      "_________________________________________________________________\n",
      "max_pooling2d_1 (MaxPooling2 (None, 16, 16, 32)        0         \n",
      "_________________________________________________________________\n",
      "conv2d_3 (Conv2D)            (None, 16, 16, 64)        18496     \n",
      "_________________________________________________________________\n",
      "max_pooling2d_2 (MaxPooling2 (None, 8, 8, 64)          0         \n",
      "_________________________________________________________________\n",
      "conv2d_4 (Conv2D)            (None, 8, 8, 128)         73856     \n",
      "_________________________________________________________________\n",
      "max_pooling2d_3 (MaxPooling2 (None, 4, 4, 128)         0         \n",
      "_________________________________________________________________\n",
      "batch_normalization_2 (Batch (None, 4, 4, 128)         512       \n",
      "_________________________________________________________________\n",
      "dropout_2 (Dropout)          (None, 4, 4, 128)         0         \n",
      "_________________________________________________________________\n",
      "conv2d_5 (Conv2D)            (None, 4, 4, 256)         295168    \n",
      "_________________________________________________________________\n",
      "dropout_3 (Dropout)          (None, 4, 4, 256)         0         \n",
      "_________________________________________________________________\n",
      "conv2d_6 (Conv2D)            (None, 4, 4, 512)         1180160   \n",
      "_________________________________________________________________\n",
      "batch_normalization_3 (Batch (None, 4, 4, 512)         2048      \n",
      "_________________________________________________________________\n",
      "flatten_1 (Flatten)          (None, 8192)              0         \n",
      "_________________________________________________________________\n",
      "dense_1 (Dense)              (None, 512)               4194816   \n",
      "_________________________________________________________________\n",
      "batch_normalization_4 (Batch (None, 512)               2048      \n",
      "_________________________________________________________________\n",
      "dropout_4 (Dropout)          (None, 512)               0         \n",
      "_________________________________________________________________\n",
      "dense_2 (Dense)              (None, 128)               65664     \n",
      "_________________________________________________________________\n",
      "batch_normalization_5 (Batch (None, 128)               512       \n",
      "_________________________________________________________________\n",
      "dropout_5 (Dropout)          (None, 128)               0         \n",
      "_________________________________________________________________\n",
      "dense_3 (Dense)              (None, 64)                8256      \n",
      "_________________________________________________________________\n",
      "dense_4 (Dense)              (None, 20)                1300      \n",
      "=================================================================\n",
      "Total params: 5,848,820\n",
      "Trainable params: 5,846,196\n",
      "Non-trainable params: 2,624\n",
      "_________________________________________________________________\n"
     ]
    }
   ],
   "source": [
    "model.summary()"
   ]
  },
  {
   "cell_type": "code",
   "execution_count": 16,
   "metadata": {
    "collapsed": true
   },
   "outputs": [],
   "source": [
    "params = list(results.history.keys())\n",
    "xaxis = []\n",
    "val_loss = results.history['val_loss']\n",
    "val_acc = results.history['val_acc']\n",
    "loss = results.history['loss']\n",
    "acc = results.history['acc']\n",
    "\n",
    "for i in range(50):\n",
    "    xaxis.append(i+1)"
   ]
  },
  {
   "cell_type": "code",
   "execution_count": 17,
   "metadata": {},
   "outputs": [
    {
     "data": {
      "text/plain": [
       "<matplotlib.text.Text at 0x131c993c8>"
      ]
     },
     "execution_count": 17,
     "metadata": {},
     "output_type": "execute_result"
    },
    {
     "data": {
      "image/png": "[encoded data removed]",
      "text/plain": [
       "<matplotlib.figure.Figure at 0x131862630>"
      ]
     },
     "metadata": {},
     "output_type": "display_data"
    }
   ],
   "source": [
    "plt.figure(figsize=(10, 5))\n",
    "plt.subplot(1, 2, 1)\n",
    "plt.plot(xaxis, val_acc)\n",
    "plt.title('Validation accuracy')\n",
    "plt.subplot(1, 2, 2)\n",
    "plt.plot(xaxis, acc)\n",
    "plt.title('Accuracy')"
   ]
  },
  {
   "cell_type": "code",
   "execution_count": 18,
   "metadata": {},
   "outputs": [
    {
     "data": {
      "text/plain": [
       "<matplotlib.text.Text at 0x1318f87b8>"
      ]
     },
     "execution_count": 18,
     "metadata": {},
     "output_type": "execute_result"
    },
    {
     "data": {
      "image/png": "[encoded data removed]",
      "text/plain": [
       "<matplotlib.figure.Figure at 0x131cc2be0>"
      ]
     },
     "metadata": {},
     "output_type": "display_data"
    }
   ],
   "source": [
    "plt.figure(figsize=(10, 5))\n",
    "plt.subplot(1, 2, 1)\n",
    "plt.plot(xaxis, val_loss)\n",
    "plt.title('Validation loss')\n",
    "plt.subplot(1, 2, 2)\n",
    "plt.plot(xaxis, loss)\n",
    "plt.title('loss')"
   ]
  },
  {
   "cell_type": "code",
   "execution_count": 19,
   "metadata": {
    "collapsed": true
   },
   "outputs": [],
   "source": [
    "model = classification('Model/try319.h5')"
   ]
  },
  {
   "cell_type": "code",
   "execution_count": 20,
   "metadata": {
    "collapsed": true
   },
   "outputs": [],
   "source": [
    "label_names = ['aquatic mammals',\n",
    "               'fish',\n",
    "               'flowers',\n",
    "               'food containers',\n",
    "               'fruit and vegetables',\n",
    "               'household electrical devices',\n",
    "               'household furniture',\n",
    "               'insects',\n",
    "               'large carnivores',\n",
    "               'large man-made outdoor things',\n",
    "               'large natural outdoor scenes',\n",
    "               'large omnivores and herbivores',\n",
    "               'medium-sized mammals',\n",
    "               'non-insect invertebrates',\n",
    "               'human',\n",
    "               'reptiles',\n",
    "               'small mammals',\n",
    "               'trees',\n",
    "               'vehicles',\n",
    "               'vehicles']"
   ]
  },
  {
   "cell_type": "code",
   "execution_count": 22,
   "metadata": {},
   "outputs": [],
   "source": [
    "X_test = image[7000:]\n",
    "Y_test = Y[7000:]\n",
    "label_test = label[7000:]"
   ]
  },
  {
   "cell_type": "code",
   "execution_count": 23,
   "metadata": {
    "collapsed": true
   },
   "outputs": [],
   "source": [
    "pred = model.predict(X_test)"
   ]
  },
  {
   "cell_type": "code",
   "execution_count": 24,
   "metadata": {},
   "outputs": [
    {
     "data": {
      "text/plain": [
       "array([1.82785079e-05, 4.92734398e-05, 5.49949982e-06, 1.54103036e-05,\n",
       "       2.38356435e-07, 2.01284915e-04, 1.14449074e-04, 6.65191794e-03,\n",
       "       9.00162340e-05, 9.29237576e-04, 6.46840199e-05, 6.06140711e-05,\n",
       "       2.43198025e-04, 1.97819492e-04, 1.70388903e-05, 2.06352634e-04,\n",
       "       5.52861929e-05, 3.12118354e-05, 9.91035581e-01, 1.25868601e-05],\n",
       "      dtype=float32)"
      ]
     },
     "execution_count": 24,
     "metadata": {},
     "output_type": "execute_result"
    }
   ],
   "source": [
    "pred[0]"
   ]
  },
  {
   "cell_type": "code",
   "execution_count": 64,
   "metadata": {},
   "outputs": [
    {
     "data": {
      "text/plain": [
       "<matplotlib.image.AxesImage at 0x13839e7f0>"
      ]
     },
     "execution_count": 64,
     "metadata": {},
     "output_type": "execute_result"
    },
    {
     "data": {
      "image/png": "[encoded data removed]",
      "text/plain": [
       "<matplotlib.figure.Figure at 0x136475b00>"
      ]
     },
     "metadata": {},
     "output_type": "display_data"
    }
   ],
   "source": [
    "plt.imshow(X_test[8])"
   ]
  },
  {
   "cell_type": "code",
   "execution_count": 65,
   "metadata": {},
   "outputs": [
    {
     "data": {
      "text/plain": [
       "array([0., 0., 0., 0., 0., 1., 0., 0., 0., 0., 0., 0., 0., 0., 0., 0., 0.,\n",
       "       0., 0., 0.])"
      ]
     },
     "execution_count": 65,
     "metadata": {},
     "output_type": "execute_result"
    }
   ],
   "source": [
    "Y_test[8]"
   ]
  },
  {
   "cell_type": "code",
   "execution_count": 66,
   "metadata": {},
   "outputs": [
    {
     "data": {
      "text/plain": [
       "5"
      ]
     },
     "execution_count": 66,
     "metadata": {},
     "output_type": "execute_result"
    }
   ],
   "source": [
    "(pred[8].tolist()).index(max(pred[8]))"
   ]
  },
  {
   "cell_type": "code",
   "execution_count": 119,
   "metadata": {},
   "outputs": [],
   "source": [
    "def test_on_random(filename):\n",
    "    path = root+'/Data/Random/'+str(filename)+'.jpg'\n",
    "    img = cv2.imread(path)\n",
    "    img = cv2.resize(img, (32, 32))\n",
    "    img = cv2.cvtColor(img, cv2.COLOR_BGR2RGB)\n",
    "    img = img.reshape(1, 32, 32, 3)\n",
    "    cnn = model.predict(img[:,:,:])\n",
    "    plt.imshow(img[0])\n",
    "    foo = label_names[(cnn[0].tolist()).index(max(cnn[0]))]\n",
    "    return foo"
   ]
  },
  {
   "cell_type": "code",
   "execution_count": 120,
   "metadata": {},
   "outputs": [
    {
     "data": {
      "text/plain": [
       "'food containers'"
      ]
     },
     "execution_count": 120,
     "metadata": {},
     "output_type": "execute_result"
    },
    {
     "data": {
      "image/png": "[encoded data removed]",
      "text/plain": [
       "<matplotlib.figure.Figure at 0x13e8b4fd0>"
      ]
     },
     "metadata": {},
     "output_type": "display_data"
    }
   ],
   "source": [
    "test_on_random(1)"
   ]
  },
  {
   "cell_type": "code",
   "execution_count": 121,
   "metadata": {},
   "outputs": [
    {
     "data": {
      "text/plain": [
       "'human'"
      ]
     },
     "execution_count": 121,
     "metadata": {},
     "output_type": "execute_result"
    },
    {
     "data": {
      "image/png": "[encoded data removed]",
      "text/plain": [
       "<matplotlib.figure.Figure at 0x13b03f588>"
      ]
     },
     "metadata": {},
     "output_type": "display_data"
    }
   ],
   "source": [
    "test_on_random(2)"
   ]
  },
  {
   "cell_type": "code",
   "execution_count": 122,
   "metadata": {},
   "outputs": [
    {
     "data": {
      "text/plain": [
       "'human'"
      ]
     },
     "execution_count": 122,
     "metadata": {},
     "output_type": "execute_result"
    },
    {
     "data": {
      "image/png": "[encoded data removed]",
      "text/plain": [
       "<matplotlib.figure.Figure at 0x13ea08e80>"
      ]
     },
     "metadata": {},
     "output_type": "display_data"
    }
   ],
   "source": [
    "test_on_random(4)"
   ]
  },
  {
   "cell_type": "code",
   "execution_count": 123,
   "metadata": {},
   "outputs": [
    {
     "data": {
      "text/plain": [
       "'human'"
      ]
     },
     "execution_count": 123,
     "metadata": {},
     "output_type": "execute_result"
    },
    {
     "data": {
      "image/png": "[encoded data removed]",
      "text/plain": [
       "<matplotlib.figure.Figure at 0x13e8aaac8>"
      ]
     },
     "metadata": {},
     "output_type": "display_data"
    }
   ],
   "source": [
    "test_on_random(3)"
   ]
  },
  {
   "cell_type": "code",
   "execution_count": 124,
   "metadata": {},
   "outputs": [
    {
     "data": {
      "text/plain": [
       "'human'"
      ]
     },
     "execution_count": 124,
     "metadata": {},
     "output_type": "execute_result"
    },
    {
     "data": {
      "image/png": "[encoded data removed]",
      "text/plain": [
       "<matplotlib.figure.Figure at 0x13e8a3898>"
      ]
     },
     "metadata": {},
     "output_type": "display_data"
    }
   ],
   "source": [
    "test_on_random(5)"
   ]
  },
  {
   "cell_type": "code",
   "execution_count": 125,
   "metadata": {},
   "outputs": [
    {
     "data": {
      "text/plain": [
       "'human'"
      ]
     },
     "execution_count": 125,
     "metadata": {},
     "output_type": "execute_result"
    },
    {
     "data": {
      "image/png": "[encoded data removed]",
      "text/plain": [
       "<matplotlib.figure.Figure at 0x13eaa8e80>"
      ]
     },
     "metadata": {},
     "output_type": "display_data"
    }
   ],
   "source": [
    "test_on_random(6)"
   ]
  },
  {
   "cell_type": "code",
   "execution_count": 126,
   "metadata": {},
   "outputs": [
    {
     "data": {
      "text/plain": [
       "'flowers'"
      ]
     },
     "execution_count": 126,
     "metadata": {},
     "output_type": "execute_result"
    },
    {
     "data": {
      "image/png": "[encoded data removed]",
      "text/plain": [
       "<matplotlib.figure.Figure at 0x13eaca7f0>"
      ]
     },
     "metadata": {},
     "output_type": "display_data"
    }
   ],
   "source": [
    "test_on_random(7)"
   ]
  },
  {
   "cell_type": "code",
   "execution_count": 127,
   "metadata": {},
   "outputs": [
    {
     "data": {
      "text/plain": [
       "'flowers'"
      ]
     },
     "execution_count": 127,
     "metadata": {},
     "output_type": "execute_result"
    },
    {
     "data": {
      "image/png": "[encoded data removed]",
      "text/plain": [
       "<matplotlib.figure.Figure at 0x13ea08a20>"
      ]
     },
     "metadata": {},
     "output_type": "display_data"
    }
   ],
   "source": [
    "test_on_random(9)"
   ]
  },
  {
   "cell_type": "code",
   "execution_count": 129,
   "metadata": {},
   "outputs": [
    {
     "data": {
      "text/plain": [
       "'fish'"
      ]
     },
     "execution_count": 129,
     "metadata": {},
     "output_type": "execute_result"
    },
    {
     "data": {
      "image/png": "[encoded data removed]",
      "text/plain": [
       "<matplotlib.figure.Figure at 0x13f51ba20>"
      ]
     },
     "metadata": {},
     "output_type": "display_data"
    }
   ],
   "source": [
    "test_on_random(10)"
   ]
  },
  {
   "cell_type": "code",
   "execution_count": 130,
   "metadata": {},
   "outputs": [
    {
     "data": {
      "text/plain": [
       "'vehicles'"
      ]
     },
     "execution_count": 130,
     "metadata": {},
     "output_type": "execute_result"
    },
    {
     "data": {
      "image/png": "[encoded data removed]",
      "text/plain": [
       "<matplotlib.figure.Figure at 0x13f862278>"
      ]
     },
     "metadata": {},
     "output_type": "display_data"
    }
   ],
   "source": [
    "test_on_random(11)"
   ]
  },
  {
   "cell_type": "code",
   "execution_count": null,
   "metadata": {
    "collapsed": true
   },
   "outputs": [],
   "source": []
  }
 ],
 "metadata": {
  "kernelspec": {
   "display_name": "Python 3",
   "language": "python",
   "name": "python3"
  },
  "language_info": {
   "codemirror_mode": {
    "name": "ipython",
    "version": 3
   },
   "file_extension": ".py",
   "mimetype": "text/x-python",
   "name": "python",
   "nbconvert_exporter": "python",
   "pygments_lexer": "ipython3",
   "version": "3.6.1"
  }
 },
 "nbformat": 4,
 "nbformat_minor": 2
}
